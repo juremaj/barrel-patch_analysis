{
 "cells": [
  {
   "cell_type": "markdown",
   "id": "bcc91c5b-7579-414d-a59c-ed8a115450e4",
   "metadata": {
    "tags": []
   },
   "source": [
    "# NMF analysis on calcium movies"
   ]
  },
  {
   "cell_type": "code",
   "execution_count": 1,
   "id": "03dee10a-a640-4ac7-84b9-263f7f20970c",
   "metadata": {},
   "outputs": [],
   "source": [
    "import os\n",
    "\n",
    "# standard libraries\n",
    "import numpy as np\n",
    "# import matplotlib.pyplot as plt\n",
    "from sklearn.decomposition import NMF\n",
    "\n",
    "# custom library\n",
    "from patchnmf.data_io import get_tiff, get_save_path, export_conts_fiji\n",
    "from patchnmf.analyse.compute import downsample_tiff_avg, compute_nmfpx_blur_thr, get_thr_img_auto, get_roi_conts, get_loading_times \n",
    "from patchnmf.plot import plot_nmf_t, plot_nmfpx_blur_thr, plot_rois_overlay, plot_roi_conts_largest, plot_roi_area_hist, plot_px_nmf_corr, plot_roi_loading_time\n",
    "\n",
    "# going to root directory (if not there yet)\n",
    "current_dir = os.getcwd().split('/')[-1]\n",
    "if current_dir != 'barrel-patch_analysis': \n",
    "    os.chdir('..')\n",
    "\n",
    "# reload code if library changes\n",
    "%load_ext autoreload\n",
    "%autoreload 2\n",
    "%reload_ext autoreload"
   ]
  },
  {
   "cell_type": "markdown",
   "id": "c52a2444-6f2b-446f-b37d-4f806949dfe4",
   "metadata": {},
   "source": [
    "## Setting parameters"
   ]
  },
  {
   "cell_type": "code",
   "execution_count": 2,
   "id": "7af3386b-48d1-4ed0-a655-617a031b8778",
   "metadata": {},
   "outputs": [],
   "source": [
    "# defining analysis parameters\n",
    "# ds = 'ani98_XXXX-XX-XX_a' # in this case set bruker to false \n",
    "\n",
    "# Normally this would just be the dataset name as per deve-networks convention, \n",
    "# but here its the raw TSeries subfolder + additionally sometimes there are \n",
    "# multiple TSeries per dataset name (it would be ideal if this wasnt the case) \n",
    "# so we need to specify the full path to the raw TSeries\n",
    "bruker = True\n",
    "ds = 'ani51_2023-04-20/TSeries-03282023-1355_940_135umdeep-002'\n",
    "\n",
    "n_components = 20\n",
    "blur_std = 6.5\n",
    "downs_fact = 4 # keep as 1 for no downsampling IMPORTANT: downsampling will mean fewer significant components in cross-validation\n",
    "resolution = 1.2 # in um "
   ]
  },
  {
   "cell_type": "markdown",
   "id": "aef407f9-b4e4-4f54-a556-b751de508589",
   "metadata": {},
   "source": [
    "## Loading and pre-processing tiff"
   ]
  },
  {
   "cell_type": "code",
   "execution_count": null,
   "id": "a9d30a23-9bc8-4d5d-8123-2355cf2acf79",
   "metadata": {},
   "outputs": [],
   "source": [
    "if bruker:\n",
    "    tiff = \n",
    "    \n",
    "else:\n",
    "    tiff = get_tiff(ds)\n",
    "    "
   ]
  },
  {
   "cell_type": "code",
   "execution_count": 3,
   "id": "90e122aa-5a37-4a36-bcac-d8fccc4c156b",
   "metadata": {},
   "outputs": [
    {
     "ename": "FileNotFoundError",
     "evalue": "[Errno 2] No such file or directory: 'data/ani98_XXXX-XX-XX_a/suite2p/plane0/reg_tif'",
     "output_type": "error",
     "traceback": [
      "\u001b[0;31m---------------------------------------------------------------------------\u001b[0m",
      "\u001b[0;31mFileNotFoundError\u001b[0m                         Traceback (most recent call last)",
      "Cell \u001b[0;32mIn[3], line 1\u001b[0m\n\u001b[0;32m----> 1\u001b[0m tiff \u001b[38;5;241m=\u001b[39m \u001b[43mget_tiff\u001b[49m\u001b[43m(\u001b[49m\u001b[43mds\u001b[49m\u001b[43m)\u001b[49m\n\u001b[1;32m      2\u001b[0m tiff \u001b[38;5;241m=\u001b[39m downsample_tiff_avg(tiff, n\u001b[38;5;241m=\u001b[39mdowns_fact) \u001b[38;5;66;03m# downsample (to speed up cross-validation) -> not done if downs_fact = 1\u001b[39;00m\n",
      "File \u001b[0;32m~/Documents/code/barrel-patch_analysis/patchnmf/data_io.py:8\u001b[0m, in \u001b[0;36mget_tiff\u001b[0;34m(ds)\u001b[0m\n\u001b[1;32m      6\u001b[0m \u001b[38;5;28;01mdef\u001b[39;00m \u001b[38;5;21mget_tiff\u001b[39m(ds):\n\u001b[1;32m      7\u001b[0m     tiff_all \u001b[38;5;241m=\u001b[39m []\n\u001b[0;32m----> 8\u001b[0m     \u001b[38;5;28;01mfor\u001b[39;00m (i, ti) \u001b[38;5;129;01min\u001b[39;00m \u001b[38;5;28menumerate\u001b[39m(\u001b[43mos\u001b[49m\u001b[38;5;241;43m.\u001b[39;49m\u001b[43mlistdir\u001b[49m\u001b[43m(\u001b[49m\u001b[38;5;124;43mf\u001b[39;49m\u001b[38;5;124;43m'\u001b[39;49m\u001b[38;5;124;43mdata/\u001b[39;49m\u001b[38;5;132;43;01m{\u001b[39;49;00m\u001b[43mds\u001b[49m\u001b[38;5;132;43;01m}\u001b[39;49;00m\u001b[38;5;124;43m/suite2p/plane0/reg_tif\u001b[39;49m\u001b[38;5;124;43m'\u001b[39;49m\u001b[43m)\u001b[49m):\n\u001b[1;32m      9\u001b[0m         \u001b[38;5;28mprint\u001b[39m(ti)\n\u001b[1;32m     10\u001b[0m         \u001b[38;5;28;01mif\u001b[39;00m i \u001b[38;5;241m==\u001b[39m \u001b[38;5;241m0\u001b[39m:\n",
      "\u001b[0;31mFileNotFoundError\u001b[0m: [Errno 2] No such file or directory: 'data/ani98_XXXX-XX-XX_a/suite2p/plane0/reg_tif'"
     ]
    }
   ],
   "source": [
    "tiff = downsample_tiff_avg(tiff, n=downs_fact) # downsample (to speed up cross-validation) -> not done if downs_fact = 1"
   ]
  },
  {
   "cell_type": "code",
   "execution_count": null,
   "id": "56f4ed0f-b852-4156-a781-52d8cf89c39f",
   "metadata": {},
   "outputs": [],
   "source": [
    "# flattening movie to input it to NMF (Negative *Matrix* Factorisation works on matrices, not tensors like movies)\n",
    "# but its not problem because the results that we get can then be easily reshaped back into an x by y frame (FOV)\n",
    "tiff_flat = np.reshape(tiff, (tiff.shape[0] , tiff.shape[1]*tiff.shape[2]))\n",
    "print(f'Shape of video as a matrix (input to NMF): {tiff_flat.shape}') "
   ]
  },
  {
   "cell_type": "markdown",
   "id": "fcedb2d0-12a5-4882-9a8d-2e0d6c34b408",
   "metadata": {},
   "source": [
    "# NMF on pixels"
   ]
  },
  {
   "cell_type": "code",
   "execution_count": null,
   "id": "f3e2714c-1230-4b68-b028-8d5d150625f2",
   "metadata": {},
   "outputs": [],
   "source": [
    "#initialising nmf and fitting to pixels\n",
    "nmf_px = NMF(n_components=n_components)\n",
    "nmf_px.fit(tiff_flat);"
   ]
  },
  {
   "cell_type": "code",
   "execution_count": null,
   "id": "4be06f9e-5dd4-4e00-8e44-4a66f4594133",
   "metadata": {},
   "outputs": [],
   "source": [
    "# here we get the raw NMF component on pixels, raw NMF with gaussin blur and an automatically thresholded blurred NMF (binary 'ROI')\n",
    "loading_imgs, loading_imgs_filt, rois_auto = compute_nmfpx_blur_thr(nmf_px, tiff.shape, blur_std=blur_std)"
   ]
  },
  {
   "cell_type": "code",
   "execution_count": null,
   "id": "4b3d192d-87c7-4661-af1a-86fa357a03b7",
   "metadata": {},
   "outputs": [],
   "source": [
    "plot_nmfpx_blur_thr(loading_imgs, loading_imgs_filt, rois_auto)"
   ]
  },
  {
   "cell_type": "code",
   "execution_count": null,
   "id": "6e965a6c-f27c-40ca-aa72-405f9a3ca244",
   "metadata": {},
   "outputs": [],
   "source": [
    "plot_rois_overlay(rois_auto, tiff.shape) # this will look ugly for too many components, also probably not the best viusalisation"
   ]
  },
  {
   "cell_type": "code",
   "execution_count": null,
   "id": "f410dbe0-6fc5-4da5-a876-59dcee1e4969",
   "metadata": {},
   "outputs": [],
   "source": [
    "# this is a function that takes ROIs as a binary image (as above) and outputs the coordinates of points that would encircle them\n",
    "conts, n_conts = get_roi_conts(rois_auto)"
   ]
  },
  {
   "cell_type": "code",
   "execution_count": null,
   "id": "e8ea953b-86a2-4d79-9783-8c943af74044",
   "metadata": {},
   "outputs": [],
   "source": [
    "plot_roi_conts_largest(conts, tiff.shape)"
   ]
  },
  {
   "cell_type": "code",
   "execution_count": null,
   "id": "2324446b-2454-4307-b104-4af59c47131e",
   "metadata": {},
   "outputs": [],
   "source": [
    "plot_roi_area_hist(rois_auto, n_bins=10, resolution=resolution)"
   ]
  },
  {
   "cell_type": "code",
   "execution_count": null,
   "id": "15d27817-6587-4cdd-a142-01053bd2e363",
   "metadata": {},
   "outputs": [],
   "source": [
    "# looking at correlation (in the binary case this is somewhat equivalent to the percentage of overlap)\n",
    "# NOTE: this plot is deceiving because it only shows positive correlations - it saturates the negative ones\n",
    "plot_px_nmf_corr(nmf_px)"
   ]
  },
  {
   "cell_type": "markdown",
   "id": "a44b8c6f-ec27-4822-bbfa-a0869a773d55",
   "metadata": {},
   "source": [
    "# NMF on time"
   ]
  },
  {
   "cell_type": "code",
   "execution_count": null,
   "id": "652202f1-0902-492a-860b-29fd4718b803",
   "metadata": {},
   "outputs": [],
   "source": [
    "# Initialising nmf and fitting to time\n",
    "nmf_t = NMF(n_components=n_components)\n",
    "nmf_t.fit(tiff_flat.T);"
   ]
  },
  {
   "cell_type": "code",
   "execution_count": null,
   "id": "b80a19eb-580e-4907-bc43-5a8165828d6e",
   "metadata": {},
   "outputs": [],
   "source": [
    "loading_times = get_loading_times(nmf_t)"
   ]
  },
  {
   "cell_type": "code",
   "execution_count": null,
   "id": "b5ee133a-f922-4cb6-9eb4-c3cef274205a",
   "metadata": {},
   "outputs": [],
   "source": [
    "plot_roi_loading_time(rois_auto, loading_times)"
   ]
  },
  {
   "cell_type": "markdown",
   "id": "05d51069-362c-4ffe-9b35-a47b53f90f29",
   "metadata": {},
   "source": [
    "# Saving variables"
   ]
  },
  {
   "cell_type": "code",
   "execution_count": null,
   "id": "2dc82c78-3ffe-432d-9f1f-ec59b47d88ca",
   "metadata": {},
   "outputs": [],
   "source": [
    "# saving ROIs as text files to import in FIJI\n",
    "save_path = get_save_path(ds)\n",
    "export_conts_fiji(conts, save_path)"
   ]
  },
  {
   "cell_type": "code",
   "execution_count": null,
   "id": "650d29e7-06a8-4994-8d4f-9453f9945c77",
   "metadata": {},
   "outputs": [],
   "source": [
    "# variables to save\n",
    "tiff_dimred_exp = {'loading_imgs': loading_imgs,\n",
    "                   'loading_times': loading_times,\n",
    "                   'rois_auto': rois_auto,\n",
    "                   'conts': conts}"
   ]
  },
  {
   "cell_type": "code",
   "execution_count": null,
   "id": "c9066537-69b8-4061-be27-31c1d7b54d9b",
   "metadata": {},
   "outputs": [],
   "source": [
    "np.save(f'{save_path}/export_tiff_dimred.npy', tiff_dimred_exp, allow_pickle=True)"
   ]
  }
 ],
 "metadata": {
  "kernelspec": {
   "display_name": "Python 3 (ipykernel)",
   "language": "python",
   "name": "python3"
  },
  "language_info": {
   "codemirror_mode": {
    "name": "ipython",
    "version": 3
   },
   "file_extension": ".py",
   "mimetype": "text/x-python",
   "name": "python",
   "nbconvert_exporter": "python",
   "pygments_lexer": "ipython3",
   "version": "3.11.0"
  }
 },
 "nbformat": 4,
 "nbformat_minor": 5
}
